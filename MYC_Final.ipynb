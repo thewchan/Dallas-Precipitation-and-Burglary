{
 "cells": [
  {
   "cell_type": "code",
   "execution_count": 9,
   "metadata": {},
   "outputs": [
    {
     "data": {
      "text/plain": [
       "array([['089226-2017', 2017, nan, ...,\n",
       "        'DALLAS, TX 75231\\n(2503560.07828924, 7002309.16279006)', nan,\n",
       "        nan],\n",
       "       ['089663-2017', 2017, nan, ...,\n",
       "        'DALLAS, TX 75224\\n(2478342.97961, 6945988.44673425)', nan, nan],\n",
       "       ['089408-2016', 2016, nan, ...,\n",
       "        'DALLAS, TX 75253\\n(2558818.55702996, 6940684.31978905)', nan,\n",
       "        nan],\n",
       "       ...,\n",
       "       ['226930-2015', 2015, nan, ...,\n",
       "        'DALLAS, TX 75207\\n(32.78712, -96.821471)', 6.0, 3.0],\n",
       "       ['226740-2015', 2015, nan, ...,\n",
       "        'DALLAS, TX 75232\\n(32.664118, -96.839394)', 3.0, 3.0],\n",
       "       ['308156-2014', 2014, nan, ...,\n",
       "        'DALLAS, TX 75206\\n(32.829897, -96.770919)', 12.0, 3.0]],\n",
       "      dtype=object)"
      ]
     },
     "execution_count": 9,
     "metadata": {},
     "output_type": "execute_result"
    }
   ],
   "source": [
    "###### %matplotlib notebook\n",
    "import matplotlib.pyplot as plt\n",
    "import pandas as pd\n",
    "import numpy as np\n",
    "import datetime\n",
    "import matplotlib.pyplot as plt\n",
    "import seaborn as sns\n",
    "\n",
    "burglary = pd.read_csv('911_Calls_-_Burglary.csv')\n",
    "date_cols = [col for col in burglary.columns if 'Date' in col]\n",
    "#'Date of Report'\n",
    "\n",
    "burglary_dates = pd.DataFrame()\n",
    "burglary_dates['Full Date'] = pd.to_datetime(burglary['Date of Report'])\n",
    "burglary_dates.set_index('Full Date', inplace = True)\n",
    "burglary_dates['Counts'] = 1\n",
    "burglary_dates = burglary_dates.resample('M').sum()\n",
    "burglary_dates.reset_index(inplace = True)\n",
    "burglary_dates.drop([0, 1, 2, 3, 4, 5, 6, 7, 8, 9, 10, 11, 12, 13, 14, 15, 16, 66], inplace = True)\n",
    "burglary_dates.set_index('Full Date', inplace = True)\n",
    "\n",
    "precipitation = pd.read_csv('1739197.csv')\n",
    "precipitation.drop(['STATION', 'NAME', 'LATITUDE', 'LONGITUDE', 'ELEVATION', 'SNOW', 'SNWD'], axis = 1, inplace = True)\n",
    "precipitation['Date'] = pd.to_datetime(precipitation['DATE'])\n",
    "precipitation.set_index('Date', inplace = True)\n",
    "precipitation = precipitation.resample('M').sum()\n",
    "precipitation.reset_index(inplace = True)\n",
    "precipitation.drop([0, 1, 2, 3, 4, 54, 55, 56, 57, 58, 59, 60, 61, 62, 63, 64], inplace = True)\n",
    "precipitation.set_index('Date', inplace = True)\n",
    "\n",
    "burglary.values\n",
    "\n"
   ]
  }
 ],
 "metadata": {
  "kernelspec": {
   "display_name": "Python 3",
   "language": "python",
   "name": "python3"
  },
  "language_info": {
   "codemirror_mode": {
    "name": "ipython",
    "version": 3
   },
   "file_extension": ".py",
   "mimetype": "text/x-python",
   "name": "python",
   "nbconvert_exporter": "python",
   "pygments_lexer": "ipython3",
   "version": "3.7.3"
  }
 },
 "nbformat": 4,
 "nbformat_minor": 2
}
